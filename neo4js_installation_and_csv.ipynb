{
  "nbformat": 4,
  "nbformat_minor": 0,
  "metadata": {
    "colab": {
      "provenance": [],
      "authorship_tag": "ABX9TyMAaxRLDnur7kOPXjDgR9jq",
      "include_colab_link": true
    },
    "kernelspec": {
      "name": "python3",
      "display_name": "Python 3"
    },
    "language_info": {
      "name": "python"
    }
  },
  "cells": [
    {
      "cell_type": "markdown",
      "metadata": {
        "id": "view-in-github",
        "colab_type": "text"
      },
      "source": [
        "<a href=\"https://colab.research.google.com/github/derrodo61/ai-apps/blob/main/neo4js_installation_and_csv.ipynb\" target=\"_parent\"><img src=\"https://colab.research.google.com/assets/colab-badge.svg\" alt=\"Open In Colab\"/></a>"
      ]
    },
    {
      "cell_type": "markdown",
      "source": [
        "# Getting started with Neo4J / Auradb + Local Installation"
      ],
      "metadata": {
        "id": "GV-DiyIQehCU"
      }
    },
    {
      "cell_type": "markdown",
      "source": [
        "## Cloud / Auradb"
      ],
      "metadata": {
        "id": "d9dRHUxRZWx7"
      }
    },
    {
      "cell_type": "markdown",
      "source": [
        "Aura DB:\n",
        "https://neo4j.com/cloud/platform/aura-graph-database/\n",
        "\n",
        "1 Native Graph Database for free.\n"
      ],
      "metadata": {
        "id": "UstBCbi0eaVq"
      }
    },
    {
      "cell_type": "markdown",
      "source": [
        "## Neo4J Desktop version"
      ],
      "metadata": {
        "id": "pIxJQgznZnEe"
      }
    },
    {
      "cell_type": "markdown",
      "source": [
        "Unlimited databases for free\n",
        "\n",
        "* download the desktop app version for your OS\n",
        "* install it\n",
        "* open it\n",
        "* agree to tos\n",
        "* initial steps will be done: downloads and more\n",
        "\n",
        "In the neo4j desktop:\n",
        "\n",
        "* add Local DBMS\n",
        "* give it a name and a password\n",
        "* create"
      ],
      "metadata": {
        "id": "z19xqbobalsS"
      }
    },
    {
      "cell_type": "markdown",
      "source": [
        "### Import CSV file\n",
        "\n",
        "1. Find the path where the database is installed. This might be done in the Neo4J desktop app by opening a terminal and then running pwd. The path might look like this:\n",
        "\n",
        "`/Users/xyz/Library/Application Support/Neo4j Desktop/Application/relate-data/dbmss/dbms-98c83022-960a-4bf8-ba7a-1f2714c9e4c9`"
      ],
      "metadata": {
        "id": "R6rEH9N-nYbn"
      }
    },
    {
      "cell_type": "markdown",
      "source": [
        "2. Below this directory is an import directory where the import files hava to be placed. E.g. embeddings.csv\n",
        "\n",
        "3. Click in Neo4j desktop in the project / database on open (Neo4j Browser)\n",
        "\n",
        "4. LOAD CSV WITH HEADERS from 'file:///embeddings.csv' AS row RETURN row"
      ],
      "metadata": {
        "id": "1RXT8LzNoLGV"
      }
    },
    {
      "cell_type": "code",
      "source": [
        "'''\n",
        "LOAD CSV WITH HEADERS\n",
        "from 'https://raw.githubusercontent.com/MidnightSkyUniverse/udemyNeo4j/master/data/titles_and_skills.csv'\n",
        "AS row\n",
        "RETURN row.Title, row.Skills\n",
        "LIMIT 15\n",
        "'''"
      ],
      "metadata": {
        "colab": {
          "base_uri": "https://localhost:8080/",
          "height": 53
        },
        "id": "tchcm47CWIoN",
        "outputId": "3a3b8312-a8e4-4a13-a60a-aa387350b610"
      },
      "execution_count": 9,
      "outputs": [
        {
          "output_type": "execute_result",
          "data": {
            "text/plain": [
              "\"\\nLOAD CSV WITH HEADERS\\nfrom 'https://raw.githubusercontent.com/MidnightSkyUniverse/udemyNeo4j/master/data/titles_and_skills.csv'\\nAS row\\nRETURN row.Title, row.Skills\\nLIMIT 15\\n\""
            ],
            "application/vnd.google.colaboratory.intrinsic+json": {
              "type": "string"
            }
          },
          "metadata": {},
          "execution_count": 9
        }
      ]
    },
    {
      "cell_type": "code",
      "source": [
        "'''\n",
        "LOAD CSV WITH HEADERS\n",
        "from 'https://raw.githubusercontent.com/MidnightSkyUniverse/udemyNeo4j/master/data/skills_details.csv'\n",
        "AS row\n",
        "RETURN row\n",
        "LIMIT 15\n",
        "'''"
      ],
      "metadata": {
        "colab": {
          "base_uri": "https://localhost:8080/",
          "height": 53
        },
        "id": "mhRaKIsFoUKT",
        "outputId": "cf0a9067-81ba-4db7-a800-2f4f568b0323"
      },
      "execution_count": 8,
      "outputs": [
        {
          "output_type": "execute_result",
          "data": {
            "text/plain": [
              "\"\\nLOAD CSV WITH HEADERS\\nfrom 'https://raw.githubusercontent.com/MidnightSkyUniverse/udemyNeo4j/master/data/skills_details.csv'\\nAS row\\nRETURN row\\nLIMIT 15\\n\""
            ],
            "application/vnd.google.colaboratory.intrinsic+json": {
              "type": "string"
            }
          },
          "metadata": {},
          "execution_count": 8
        }
      ]
    }
  ]
}